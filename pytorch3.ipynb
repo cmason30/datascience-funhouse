{
  "nbformat": 4,
  "nbformat_minor": 0,
  "metadata": {
    "colab": {
      "name": "pytorch3",
      "provenance": [],
      "authorship_tag": "ABX9TyPHib9iRsVxq7tphBHSaLlL",
      "include_colab_link": true
    },
    "kernelspec": {
      "name": "python3",
      "display_name": "Python 3"
    }
  },
  "cells": [
    {
      "cell_type": "markdown",
      "metadata": {
        "id": "view-in-github",
        "colab_type": "text"
      },
      "source": [
        "<a href=\"https://colab.research.google.com/github/cmason30/datascience-funhouse/blob/master/pytorch3.ipynb\" target=\"_parent\"><img src=\"https://colab.research.google.com/assets/colab-badge.svg\" alt=\"Open In Colab\"/></a>"
      ]
    },
    {
      "cell_type": "code",
      "metadata": {
        "id": "OemuPT4y9aLp",
        "colab_type": "code",
        "colab": {}
      },
      "source": [
        "import torch"
      ],
      "execution_count": null,
      "outputs": []
    },
    {
      "cell_type": "markdown",
      "metadata": {
        "id": "4FQyBBeXtvE8",
        "colab_type": "text"
      },
      "source": [
        "Tensor: \n",
        "\n",
        " - A multi-dimensional array\n",
        " - In deep learning, refer to the generalization of vectors and matrices to an arbitrary number of dimensions. (Pretty much seen as a layered matrix model)\n",
        " - PyTorch is comparable to NumPy in its use of multi-dimensional arrays\n",
        " - Why use PyTorch over NumPy then?\n",
        "  - PyTorch can run on GPUs, distribute processes to multiple machines, and keep track of graph computations\n",
        "\n"
      ]
    },
    {
      "cell_type": "code",
      "metadata": {
        "id": "-Dz-X8nrvFse",
        "colab_type": "code",
        "colab": {}
      },
      "source": [
        "a = [1.0, 2.0, 1.0]"
      ],
      "execution_count": null,
      "outputs": []
    },
    {
      "cell_type": "code",
      "metadata": {
        "id": "iro5pcUUvKse",
        "colab_type": "code",
        "colab": {
          "base_uri": "https://localhost:8080/",
          "height": 34
        },
        "outputId": "40ddfa02-a267-4f30-b28e-ac0fec3eec96"
      },
      "source": [
        "a[0]"
      ],
      "execution_count": null,
      "outputs": [
        {
          "output_type": "execute_result",
          "data": {
            "text/plain": [
              "1.0"
            ]
          },
          "metadata": {
            "tags": []
          },
          "execution_count": 2
        }
      ]
    },
    {
      "cell_type": "code",
      "metadata": {
        "id": "ZvRbLscLvQcY",
        "colab_type": "code",
        "colab": {
          "base_uri": "https://localhost:8080/",
          "height": 34
        },
        "outputId": "5c3dffa9-ec82-4958-e1ff-2f296757c638"
      },
      "source": [
        "# Creates a one-dimensional tensor of size 3 fille with 1's\n",
        "a = torch.ones(3)\n",
        "a"
      ],
      "execution_count": null,
      "outputs": [
        {
          "output_type": "execute_result",
          "data": {
            "text/plain": [
              "tensor([1., 1., 1.])"
            ]
          },
          "metadata": {
            "tags": []
          },
          "execution_count": 6
        }
      ]
    },
    {
      "cell_type": "code",
      "metadata": {
        "id": "fm2mqmLfvkzR",
        "colab_type": "code",
        "colab": {
          "base_uri": "https://localhost:8080/",
          "height": 34
        },
        "outputId": "0a7dae28-c681-437d-9e76-ca4a4f3e736a"
      },
      "source": [
        "a[2] = 2.0\n",
        "a"
      ],
      "execution_count": null,
      "outputs": [
        {
          "output_type": "execute_result",
          "data": {
            "text/plain": [
              "tensor([1., 1., 2.])"
            ]
          },
          "metadata": {
            "tags": []
          },
          "execution_count": 7
        }
      ]
    },
    {
      "cell_type": "code",
      "metadata": {
        "id": "uZYq5UYowBj1",
        "colab_type": "code",
        "colab": {
          "base_uri": "https://localhost:8080/",
          "height": 34
        },
        "outputId": "bcd59de0-aeae-46c7-c323-dce9fc0f0446"
      },
      "source": [
        "# Instead of tuple pairing coordinates of a triangle in a python object. \n",
        "# You can use PyTorch to store all X coords in an even index and \n",
        "# all Y coors in the ood indices\n",
        "\n",
        "\n",
        "points = torch.zeros(6)\n",
        "points[0] = 4.0\n",
        "points[1] = 1.0\n",
        "points[2] = 5.0\n",
        "points[3] = 3.0\n",
        "points[4] = 2.0\n",
        "points[5] = 1.0\n",
        "\n",
        "points"
      ],
      "execution_count": null,
      "outputs": [
        {
          "output_type": "execute_result",
          "data": {
            "text/plain": [
              "tensor([4., 1., 5., 3., 2., 1.])"
            ]
          },
          "metadata": {
            "tags": []
          },
          "execution_count": 8
        }
      ]
    },
    {
      "cell_type": "code",
      "metadata": {
        "id": "PKO_qFPAwUWw",
        "colab_type": "code",
        "colab": {
          "base_uri": "https://localhost:8080/",
          "height": 34
        },
        "outputId": "c8abdd2c-8f93-4093-d6bb-614271b2bd85"
      },
      "source": [
        "coord1 = float(points[0]), float(points[1])\n",
        "coord2 = float(points[2]), float(points[3])\n",
        "coord3 = float(points[4]), float(points[5])\n",
        "\n",
        "coord3"
      ],
      "execution_count": null,
      "outputs": [
        {
          "output_type": "execute_result",
          "data": {
            "text/plain": [
              "(2.0, 1.0)"
            ]
          },
          "metadata": {
            "tags": []
          },
          "execution_count": 13
        }
      ]
    },
    {
      "cell_type": "code",
      "metadata": {
        "id": "i2yh65crwxd1",
        "colab_type": "code",
        "colab": {
          "base_uri": "https://localhost:8080/",
          "height": 68
        },
        "outputId": "4ccb7307-34e9-4a06-a257-e7b4f1f1b891"
      },
      "source": [
        "# A better way\n",
        "\n",
        "points = torch.tensor([[4.0,1.0], [5.0, 3.0], [2.0, 1.0]])\n",
        "points"
      ],
      "execution_count": null,
      "outputs": [
        {
          "output_type": "execute_result",
          "data": {
            "text/plain": [
              "tensor([[4., 1.],\n",
              "        [5., 3.],\n",
              "        [2., 1.]])"
            ]
          },
          "metadata": {
            "tags": []
          },
          "execution_count": 15
        }
      ]
    },
    {
      "cell_type": "code",
      "metadata": {
        "id": "HiO2XQYUxNum",
        "colab_type": "code",
        "colab": {
          "base_uri": "https://localhost:8080/",
          "height": 34
        },
        "outputId": "7eb17ab3-201d-43e8-f55f-5cdd82b977be"
      },
      "source": [
        "points.shape"
      ],
      "execution_count": null,
      "outputs": [
        {
          "output_type": "execute_result",
          "data": {
            "text/plain": [
              "torch.Size([3, 2])"
            ]
          },
          "metadata": {
            "tags": []
          },
          "execution_count": 16
        }
      ]
    },
    {
      "cell_type": "code",
      "metadata": {
        "id": "C_XW-wxVxQIw",
        "colab_type": "code",
        "colab": {
          "base_uri": "https://localhost:8080/",
          "height": 68
        },
        "outputId": "eb3109eb-39f2-4295-9ad2-eec52fc268a2"
      },
      "source": [
        "points = torch.zeros(3,2)\n",
        "points"
      ],
      "execution_count": null,
      "outputs": [
        {
          "output_type": "execute_result",
          "data": {
            "text/plain": [
              "tensor([[0., 0.],\n",
              "        [0., 0.],\n",
              "        [0., 0.]])"
            ]
          },
          "metadata": {
            "tags": []
          },
          "execution_count": 18
        }
      ]
    },
    {
      "cell_type": "code",
      "metadata": {
        "id": "yTP9eS4DxUt7",
        "colab_type": "code",
        "colab": {}
      },
      "source": [
        "points = torch.tensor([[4.0, 1.0], [5.0, 3.0], [2.0, 1.0]])"
      ],
      "execution_count": null,
      "outputs": []
    },
    {
      "cell_type": "code",
      "metadata": {
        "id": "zeIhPIgdxUrn",
        "colab_type": "code",
        "colab": {
          "base_uri": "https://localhost:8080/",
          "height": 34
        },
        "outputId": "84970af9-0ff7-452b-f3e8-d4269f6565f3"
      },
      "source": [
        "points[0, 0]"
      ],
      "execution_count": null,
      "outputs": [
        {
          "output_type": "execute_result",
          "data": {
            "text/plain": [
              "tensor(4.)"
            ]
          },
          "metadata": {
            "tags": []
          },
          "execution_count": 21
        }
      ]
    },
    {
      "cell_type": "code",
      "metadata": {
        "id": "YjS7ENwNxigz",
        "colab_type": "code",
        "colab": {
          "base_uri": "https://localhost:8080/",
          "height": 34
        },
        "outputId": "70e2519b-5132-4e54-b9cc-061d0472b02c"
      },
      "source": [
        "points[2]"
      ],
      "execution_count": null,
      "outputs": [
        {
          "output_type": "execute_result",
          "data": {
            "text/plain": [
              "tensor([2., 1.])"
            ]
          },
          "metadata": {
            "tags": []
          },
          "execution_count": 22
        }
      ]
    },
    {
      "cell_type": "code",
      "metadata": {
        "id": "tDRXUwuaxn5c",
        "colab_type": "code",
        "colab": {
          "base_uri": "https://localhost:8080/",
          "height": 306
        },
        "outputId": "433e7498-e302-4271-bd9d-d6e9db172395"
      },
      "source": [
        "img_t = torch.randn(3,5,5) # Shape is channel, row, columns (or 3 matrices of 5x5 shape)\n",
        "weights = torch.tensor([0.2126, 0.7152, 0.0722])\n",
        "\n",
        "img_t"
      ],
      "execution_count": null,
      "outputs": [
        {
          "output_type": "execute_result",
          "data": {
            "text/plain": [
              "tensor([[[ 0.1142, -0.7106,  0.4310, -1.5273, -0.1064],\n",
              "         [-0.0181, -0.3238, -0.8560,  0.9960, -0.6654],\n",
              "         [ 0.0378, -1.7541, -1.1225, -1.0888,  1.0097],\n",
              "         [ 0.0384, -0.8016,  1.5943,  0.5293, -0.3877],\n",
              "         [ 1.2425, -0.4725, -0.0314, -1.0168, -1.2490]],\n",
              "\n",
              "        [[ 1.2443, -0.5363,  1.5974,  0.1908, -1.3624],\n",
              "         [ 0.5497, -0.2931, -0.3645, -0.0279,  1.4376],\n",
              "         [-0.3764,  0.7151, -0.1302,  1.7392,  0.3579],\n",
              "         [ 0.7829, -0.9747,  1.5951,  1.3376,  1.0028],\n",
              "         [-0.0917, -0.3086,  0.1015,  0.1753,  0.7558]],\n",
              "\n",
              "        [[-0.1357, -0.2243,  1.5758,  1.4705,  0.0029],\n",
              "         [-0.6686, -0.3641, -1.8329, -0.3444,  0.2592],\n",
              "         [ 0.4758,  0.7007,  0.2137,  1.4151, -0.0542],\n",
              "         [-0.4501,  2.4730,  1.6429,  0.5219,  0.7461],\n",
              "         [-0.0103, -0.2466,  0.2763,  0.1090,  1.0644]]])"
            ]
          },
          "metadata": {
            "tags": []
          },
          "execution_count": 26
        }
      ]
    },
    {
      "cell_type": "code",
      "metadata": {
        "id": "LTFkihU2yu0H",
        "colab_type": "code",
        "colab": {}
      },
      "source": [
        "batch_t = torch.randn(2,3,5,5)\n",
        "batch_t"
      ],
      "execution_count": null,
      "outputs": []
    },
    {
      "cell_type": "code",
      "metadata": {
        "id": "74mQ_9Hty6s5",
        "colab_type": "code",
        "colab": {
          "base_uri": "https://localhost:8080/",
          "height": 34
        },
        "outputId": "dbc14911-aa3e-41f7-e8db-ed0cea194555"
      },
      "source": [
        "img_gray_naive = img_t.mean(-3)\n",
        "batch_gray_naive = batch_t.mean(-3)\n",
        "img_gray_naive.shape, batch_gray_naive.shape"
      ],
      "execution_count": null,
      "outputs": [
        {
          "output_type": "execute_result",
          "data": {
            "text/plain": [
              "(torch.Size([5, 5]), torch.Size([2, 5, 5]))"
            ]
          },
          "metadata": {
            "tags": []
          },
          "execution_count": 30
        }
      ]
    },
    {
      "cell_type": "code",
      "metadata": {
        "id": "X4DVvM9B4BGH",
        "colab_type": "code",
        "colab": {
          "base_uri": "https://localhost:8080/",
          "height": 51
        },
        "outputId": "c84d5d26-06d4-4f45-82c1-0fa11cf56e29"
      },
      "source": [
        "a = torch.ones(3,2)\n",
        "a_t = torch.transpose(a, 0, 1)\n",
        "a_t"
      ],
      "execution_count": 35,
      "outputs": [
        {
          "output_type": "execute_result",
          "data": {
            "text/plain": [
              "tensor([[1., 1., 1.],\n",
              "        [1., 1., 1.]])"
            ]
          },
          "metadata": {
            "tags": []
          },
          "execution_count": 35
        }
      ]
    },
    {
      "cell_type": "code",
      "metadata": {
        "id": "HrrIsCiH4VgF",
        "colab_type": "code",
        "colab": {}
      },
      "source": [
        ""
      ],
      "execution_count": null,
      "outputs": []
    }
  ]
}